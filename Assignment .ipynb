{
 "cells": [
  {
   "cell_type": "code",
   "execution_count": 2,
   "id": "a918bb2a-69fd-4829-9ab9-8d935e4b06d9",
   "metadata": {},
   "outputs": [],
   "source": [
    "         #Answer: 1\n",
    "\n",
    "class Vehicle:\n",
    "    def __init__(self, name_of_vehicle, max_speed, average_of_vehicle):\n",
    "        self.name_of_vehicle = name_of_vehicle\n",
    "        self.max_speed = max_speed\n",
    "        self.average_of_vehicle = average_of_vehicle\n"
   ]
  },
  {
   "cell_type": "code",
   "execution_count": 3,
   "id": "17df6beb-41fe-41c2-9852-ac85bbd422ef",
   "metadata": {},
   "outputs": [],
   "source": [
    "car = Vehicle(\"Mustang GT15\", 200, 50)"
   ]
  },
  {
   "cell_type": "code",
   "execution_count": 4,
   "id": "09ad7704-0137-4c70-9487-cdd8a4003c5f",
   "metadata": {},
   "outputs": [
    {
     "name": "stdout",
     "output_type": "stream",
     "text": [
      "Mustang GT15\n"
     ]
    }
   ],
   "source": [
    "print(car.name_of_vehicle) "
   ]
  },
  {
   "cell_type": "code",
   "execution_count": 5,
   "id": "d40c1f46-737c-4b1c-92e7-aed8f45222f1",
   "metadata": {},
   "outputs": [
    {
     "name": "stdout",
     "output_type": "stream",
     "text": [
      "200\n"
     ]
    }
   ],
   "source": [
    "print(car.max_speed)"
   ]
  },
  {
   "cell_type": "code",
   "execution_count": 6,
   "id": "137a2185-2808-4726-84f2-b1d1e75adc43",
   "metadata": {},
   "outputs": [
    {
     "name": "stdout",
     "output_type": "stream",
     "text": [
      "50\n"
     ]
    }
   ],
   "source": [
    "print(car.average_of_vehicle)"
   ]
  },
  {
   "cell_type": "code",
   "execution_count": 19,
   "id": "3b1b37c4-fb9f-4ad5-a09c-d89ccabe098e",
   "metadata": {},
   "outputs": [],
   "source": [
    "        #Answer: 2\n",
    "        \n",
    "class Car(Vehicle):\n",
    "    def seating_capacity(self, capacity):\n",
    "       return f\"The {self.name_of_vehicle} has a seating capacity of {capacity}.\"   "
   ]
  },
  {
   "cell_type": "code",
   "execution_count": 20,
   "id": "666cf112-e3d5-467e-82f6-eccbf462e82f",
   "metadata": {},
   "outputs": [],
   "source": [
    "car1 = Car(\"Fortuner\", 180, 40)"
   ]
  },
  {
   "cell_type": "code",
   "execution_count": 21,
   "id": "bf94b80f-3598-4d2e-a9df-5061fb1413f6",
   "metadata": {},
   "outputs": [
    {
     "name": "stdout",
     "output_type": "stream",
     "text": [
      "Fortuner\n",
      "180\n",
      "40\n"
     ]
    }
   ],
   "source": [
    "print(car1.name_of_vehicle) \n",
    "print(car1.max_speed)  \n",
    "print(car1.average_of_vehicle)  \n"
   ]
  },
  {
   "cell_type": "code",
   "execution_count": 22,
   "id": "852d396c-34ce-46bc-965b-23e911962b79",
   "metadata": {},
   "outputs": [],
   "source": [
    "         #Answer: 3\n",
    "    \n",
    " # A class can be derived from more than one superclass in Python. This is called multiple inheritance   \n",
    "\n",
    "class Class1:\n",
    "    def m(self):\n",
    "        print(\"In Class1\")\n",
    "       \n",
    "class Class2(Class1):\n",
    "    def m(self):\n",
    "        print(\"In Class2\")\n",
    " \n",
    "class Class3(Class1):\n",
    "    def m(self):\n",
    "        print(\"In Class3\") \n",
    "        \n",
    "class Class4(Class2, Class3):\n",
    "    pass  \n",
    "     \n"
   ]
  },
  {
   "cell_type": "code",
   "execution_count": 23,
   "id": "e20a961a-d252-4787-84e1-5de0b456455d",
   "metadata": {},
   "outputs": [
    {
     "name": "stdout",
     "output_type": "stream",
     "text": [
      "In Class2\n"
     ]
    }
   ],
   "source": [
    "obj = Class4()\n",
    "obj.m()"
   ]
  },
  {
   "cell_type": "code",
   "execution_count": null,
   "id": "17f3fc27-2f96-465f-88e7-19d1fab174d3",
   "metadata": {},
   "outputs": [],
   "source": [
    "     #Answer:  4\n",
    "    \n",
    "    Getter: A method that allows you to access an attribute in a given class. \n",
    "    Setter: A method that allows you to set or mutate the value of an attribute in a class."
   ]
  },
  {
   "cell_type": "code",
   "execution_count": 25,
   "id": "202c6695-3087-4cd3-a53d-7123d1ffeae7",
   "metadata": {},
   "outputs": [
    {
     "name": "stdout",
     "output_type": "stream",
     "text": [
      "21\n",
      "21\n"
     ]
    }
   ],
   "source": [
    "class Geek:\n",
    "    def __init__(self, age = 0):\n",
    "         self._age = age\n",
    "      \n",
    "    # getter method\n",
    "    def get_age(self):\n",
    "        return self._age\n",
    "      \n",
    "    # setter method\n",
    "    def set_age(self, x):\n",
    "        self._age = x\n",
    "  \n",
    "raj = Geek()\n",
    "  \n",
    "# setting the age using setter\n",
    "raj.set_age(21)\n",
    "  \n",
    "# retrieving age using getter\n",
    "print(raj.get_age())\n",
    "  \n",
    "print(raj._age)"
   ]
  },
  {
   "cell_type": "code",
   "execution_count": null,
   "id": "a5e4fe1d-e0fa-4bed-bbd3-7942ace7db34",
   "metadata": {},
   "outputs": [],
   "source": [
    "        #Answer: 5\n",
    "    \n",
    "Method overriding is an ability of any object-oriented programming language that allows a subclass or child class,\n",
    "to provide a specific implementation of a method that is already provided by one of its super-classes or parent classes.\n",
    "When a method in a subclass has the same name, same parameters or signature and same return type(or sub-type) \n",
    "as a method in its super-class, then the method in the subclass is said to override the method in the super-class    "
   ]
  },
  {
   "cell_type": "code",
   "execution_count": null,
   "id": "064a06ea-7730-4717-8b70-959b1b71c93c",
   "metadata": {},
   "outputs": [],
   "source": [
    "class Parent():\n",
    "      \n",
    "    # Constructor\n",
    "    def __init__(self):\n",
    "        self.value = \"Inside Parent\"\n",
    "          \n",
    "    # Parent's show method\n",
    "    def show(self):\n",
    "        print(self.value)\n",
    "          \n",
    "# Defining child class\n",
    "class Child(Parent):\n",
    "      \n",
    "    # Constructor\n",
    "    def __init__(self):\n",
    "        self.value = \"Inside Child\"\n",
    "          \n",
    "    # Child's show method\n",
    "    def show(self):\n",
    "        print(self.value)\n",
    "          "
   ]
  },
  {
   "cell_type": "code",
   "execution_count": null,
   "id": "e39cd589-80ed-483c-9d40-84b3554067a6",
   "metadata": {},
   "outputs": [],
   "source": [
    "obj1 = Parent()\n",
    "obj2 = Child()\n",
    "  \n",
    "obj1.show()\n",
    "obj2.show()"
   ]
  },
  {
   "cell_type": "code",
   "execution_count": null,
   "id": "1e61225e-00e0-4959-a30b-ac92491a1442",
   "metadata": {},
   "outputs": [],
   "source": []
  }
 ],
 "metadata": {
  "kernelspec": {
   "display_name": "Python 3 (ipykernel)",
   "language": "python",
   "name": "python3"
  },
  "language_info": {
   "codemirror_mode": {
    "name": "ipython",
    "version": 3
   },
   "file_extension": ".py",
   "mimetype": "text/x-python",
   "name": "python",
   "nbconvert_exporter": "python",
   "pygments_lexer": "ipython3",
   "version": "3.10.8"
  }
 },
 "nbformat": 4,
 "nbformat_minor": 5
}
